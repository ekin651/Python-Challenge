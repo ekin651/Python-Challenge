{
 "cells": [
  {
   "cell_type": "code",
   "execution_count": 5,
   "metadata": {},
   "outputs": [],
   "source": [
    "import os\n",
    "import csv"
   ]
  },
  {
   "cell_type": "code",
   "execution_count": 156,
   "metadata": {},
   "outputs": [
    {
     "name": "stdout",
     "output_type": "stream",
     "text": [
      "Total Months: 86 \n"
     ]
    }
   ],
   "source": [
    "with open('budget_data.csv') as filecsv:\n",
    "    csv_reader = csv.reader(filecsv)\n",
    " \n",
    "    csv_header = next(filecsv)\n",
    "    total_months = 0\n",
    "    for row in csv_reader:\n",
    "          total_months = total_months + 1         \n",
    "    Results = (\n",
    "        f\"Total Months: {total_months} \"\n",
    "    )\n",
    "    print  (Results)"
   ]
  },
  {
   "cell_type": "code",
   "execution_count": null,
   "metadata": {},
   "outputs": [],
   "source": []
  },
  {
   "cell_type": "code",
   "execution_count": 159,
   "metadata": {},
   "outputs": [
    {
     "name": "stdout",
     "output_type": "stream",
     "text": [
      "Total : $38382578 \n"
     ]
    }
   ],
   "source": [
    "with open('budget_data.csv') as filecsv:\n",
    "    csv_reader = csv.reader(filecsv)\n",
    " \n",
    "    csv_header = next(filecsv)\n",
    "    profit_losses_total= 0\n",
    "    for row in csv_reader:\n",
    "        profit_losses_total = profit_losses_total + int(row[0])\n",
    "    Results = (\n",
    "        f\"Total : ${profit_losses_total} \"\n",
    "    )\n",
    "    print(Results)\n",
    "\n"
   ]
  },
  {
   "cell_type": "code",
   "execution_count": 160,
   "metadata": {},
   "outputs": [
    {
     "name": "stdout",
     "output_type": "stream",
     "text": [
      "Average Change : $-2288 \n"
     ]
    }
   ],
   "source": [
    "with open('budget_data.csv') as filecsv:\n",
    "    csv_reader = csv.reader(filecsv)\n",
    "    \n",
    "    csv_header = next(filecsv)\n",
    "    \n",
    "    past_profit_losses = 867884\n",
    "    \n",
    "    total_months = 0\n",
    "    \n",
    "    profit_change = []\n",
    "    \n",
    "    for row in csv_reader:\n",
    "        \n",
    "        total_months = total_months + 1  \n",
    "        \n",
    "        monthly_profit_dif = int(row[0]) - past_profit_losses\n",
    "        \n",
    "        past_profit_losses = int(row[0])\n",
    "        \n",
    "        profit_change.append(monthly_profit_dif)\n",
    "        \n",
    "        dif_profit_change = round(sum(profit_change)/total_months)\n",
    "    Results = (\n",
    "        f\"Average Change : ${dif_profit_change} \"\n",
    "    )\n",
    "    print(Results)\n",
    "\n"
   ]
  },
  {
   "cell_type": "code",
   "execution_count": 189,
   "metadata": {},
   "outputs": [
    {
     "name": "stdout",
     "output_type": "stream",
     "text": [
      "Greatest Increase in Profit: Feb-2012 $1926159 \n",
      "Greates Decrease in Profit: Sep-2013 $-2196167 \n"
     ]
    }
   ],
   "source": [
    "with open('budget_data.csv') as filecsv:\n",
    "    csv_reader = csv.reader(filecsv)\n",
    "    \n",
    "    csv_header = next(filecsv)\n",
    "    \n",
    "    past_profit_losses = 867884\n",
    "    greatest_increase=0\n",
    "    lowest_decrease=10000000\n",
    "      \n",
    "    profit_change = []\n",
    "    \n",
    "    \n",
    "    \n",
    "    for row in csv_reader:\n",
    "        \n",
    "                \n",
    "        monthly_profit_dif = int(row[0]) - past_profit_losses\n",
    "        \n",
    "        past_profit_losses = int(row[0])\n",
    "        \n",
    "        profit_change.append(monthly_profit_dif)\n",
    "        \n",
    "        dif_profit_change = round(sum(profit_change)/total_months)\n",
    "        \n",
    "        if (monthly_profit_dif  > greatest_increase):\n",
    "            greatest_increase_month = row[1]\n",
    "            greatest_increase =  monthly_profit_dif\n",
    "       \n",
    "        if (monthly_profit_dif < lowest_decrease):\n",
    "            lowest_decrease_month = row[1]\n",
    "            lowest_decrease = monthly_profit_dif\n",
    "    \n",
    "        \n",
    "             \n",
    "        \n",
    "    Results = (\n",
    "        f\"Greatest Increase in Profit: {greatest_increase_month} ${greatest_increase} \\n\"\n",
    "        f\"Greates Decrease in Profit: {lowest_decrease_month} ${lowest_decrease} \"\n",
    "    )\n",
    "    print( Results )"
   ]
  },
  {
   "cell_type": "code",
   "execution_count": null,
   "metadata": {},
   "outputs": [],
   "source": []
  }
 ],
 "metadata": {
  "kernelspec": {
   "display_name": "Python 3.7.4 64-bit ('base': conda)",
   "language": "python",
   "name": "python37464bitbaseconda4ece266d29664c678acf8df844638b6c"
  },
  "language_info": {
   "codemirror_mode": {
    "name": "ipython",
    "version": 3
   },
   "file_extension": ".py",
   "mimetype": "text/x-python",
   "name": "python",
   "nbconvert_exporter": "python",
   "pygments_lexer": "ipython3",
   "version": "3.7.4"
  }
 },
 "nbformat": 4,
 "nbformat_minor": 2
}